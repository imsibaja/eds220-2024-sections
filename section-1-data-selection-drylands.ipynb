{
 "cells": [
  {
   "cell_type": "markdown",
   "id": "0da0dc18-142b-43c0-8723-dc96012e9d9d",
   "metadata": {},
   "source": [
    "## 1. Archive exploration\n",
    "\n",
    "In your notebook: use a markdown cell to add a brief description of the dataset, \n",
    "including a citation, date of access, and a link to the archive."
   ]
  },
  {
   "cell_type": "markdown",
   "id": "4cf09a99-edeb-48ff-a78a-f3a9f406ac1d",
   "metadata": {},
   "source": [
    "## 2. Metadata exploration\n",
    "\n",
    "You may have noticed there are two metadata files: Compiled_occurrence_records_for_prey_items_of.xml and metadata_arth_occurrences.csv. The .xml document file type is EML which stands for EML: Ecological Metadata Language. This is a machine-readable file that has metadata about the whole dataset. In this section we will only use the metadata in the CSV file.\n",
    "\n",
    "Back in your notebook, import the pandas package using standard abbreviation in a code cell. Then follow these steps to read in the metadata CSV using the pandas.read_csv() function:"
   ]
  },
  {
   "cell_type": "code",
   "execution_count": 1,
   "id": "c044556f-1244-4720-ac28-a9bcdc152f1a",
   "metadata": {
    "tags": []
   },
   "outputs": [],
   "source": [
    "import pandas as pd"
   ]
  },
  {
   "cell_type": "markdown",
   "id": "d06c8963-632c-4d5f-a61d-dcfbe890a999",
   "metadata": {},
   "source": [
    "- Navigate to the data package site and copy the URL to access the metadata_arth_occurrences CSV file. To copy the URL:\n",
    "    - hover over the Download button –> right click –> “Copy Link”.\n",
    "\n",
    "- Read in the data from the URL using the pd.read_csv() function like this:\n",
    "\n",
    "    - `# Access metadata from repository` \n",
    "    - `pd.read_csv('the URL goes here')`\n",
    "\n",
    "- Take a minute to look at the descriptions for the columns.\n",
    "\n",
    "Note: Not all datasets have column descriptions in a CSV file. Often they come with a .doc or .txt file with information."
   ]
  },
  {
   "cell_type": "code",
   "execution_count": 5,
   "id": "b2eb94bf-aee7-4072-8455-f129c260addc",
   "metadata": {
    "tags": []
   },
   "outputs": [
    {
     "data": {
      "text/html": [
       "<div>\n",
       "<style scoped>\n",
       "    .dataframe tbody tr th:only-of-type {\n",
       "        vertical-align: middle;\n",
       "    }\n",
       "\n",
       "    .dataframe tbody tr th {\n",
       "        vertical-align: top;\n",
       "    }\n",
       "\n",
       "    .dataframe thead th {\n",
       "        text-align: right;\n",
       "    }\n",
       "</style>\n",
       "<table border=\"1\" class=\"dataframe\">\n",
       "  <thead>\n",
       "    <tr style=\"text-align: right;\">\n",
       "      <th></th>\n",
       "      <th>attribute</th>\n",
       "      <th>description</th>\n",
       "    </tr>\n",
       "  </thead>\n",
       "  <tbody>\n",
       "    <tr>\n",
       "      <th>0</th>\n",
       "      <td>class</td>\n",
       "      <td>taxonomic class of observed organism</td>\n",
       "    </tr>\n",
       "    <tr>\n",
       "      <th>1</th>\n",
       "      <td>order</td>\n",
       "      <td>taxonomic order of observed organism</td>\n",
       "    </tr>\n",
       "    <tr>\n",
       "      <th>2</th>\n",
       "      <td>family</td>\n",
       "      <td>taxonomic family of observed organism</td>\n",
       "    </tr>\n",
       "    <tr>\n",
       "      <th>3</th>\n",
       "      <td>genus</td>\n",
       "      <td>genus name</td>\n",
       "    </tr>\n",
       "    <tr>\n",
       "      <th>4</th>\n",
       "      <td>species</td>\n",
       "      <td>full latin binomial name</td>\n",
       "    </tr>\n",
       "  </tbody>\n",
       "</table>\n",
       "</div>"
      ],
      "text/plain": [
       "  attribute                            description\n",
       "0     class   taxonomic class of observed organism\n",
       "1     order   taxonomic order of observed organism\n",
       "2    family  taxonomic family of observed organism\n",
       "3     genus                             genus name\n",
       "4   species               full latin binomial name"
      ]
     },
     "execution_count": 5,
     "metadata": {},
     "output_type": "execute_result"
    }
   ],
   "source": [
    "meta_url = \"https://knb.ecoinformatics.org/knb/d1/mn/v2/object/urn%3Auuid%3A3baf7289-bf90-4db3-ad11-58785c09b26e\"\n",
    "meta = pd.read_csv(meta_url)\n",
    "meta.head()"
   ]
  },
  {
   "cell_type": "markdown",
   "id": "fd5de461-8f02-4475-b283-fb540effaaed",
   "metadata": {},
   "source": [
    "## 3. Data loading\n",
    "\n",
    "Follow steps (a) and (b) from the previous exercise to read in the drylands prey data file arth_occurrences_with_env.csv using pd.read_csv(). Store the dataframe to a variable called prey like this:\n",
    "\n",
    "# Load data\n",
    "prey = pd.read_csv('the URL goes here')\n",
    "\n",
    "What is the type of the prey variable? Use a Python function get this information."
   ]
  },
  {
   "cell_type": "code",
   "execution_count": 7,
   "id": "4d4e6a2e-0693-4e13-ad6c-de40e21c7b45",
   "metadata": {
    "tags": []
   },
   "outputs": [
    {
     "data": {
      "text/html": [
       "<div>\n",
       "<style scoped>\n",
       "    .dataframe tbody tr th:only-of-type {\n",
       "        vertical-align: middle;\n",
       "    }\n",
       "\n",
       "    .dataframe tbody tr th {\n",
       "        vertical-align: top;\n",
       "    }\n",
       "\n",
       "    .dataframe thead th {\n",
       "        text-align: right;\n",
       "    }\n",
       "</style>\n",
       "<table border=\"1\" class=\"dataframe\">\n",
       "  <thead>\n",
       "    <tr style=\"text-align: right;\">\n",
       "      <th></th>\n",
       "      <th>class</th>\n",
       "      <th>order</th>\n",
       "      <th>family</th>\n",
       "      <th>genus</th>\n",
       "      <th>species</th>\n",
       "      <th>lat</th>\n",
       "      <th>long</th>\n",
       "      <th>eventDate</th>\n",
       "      <th>day</th>\n",
       "      <th>month</th>\n",
       "      <th>...</th>\n",
       "      <th>bio4</th>\n",
       "      <th>bio5</th>\n",
       "      <th>bio6</th>\n",
       "      <th>bio7</th>\n",
       "      <th>bio8</th>\n",
       "      <th>bio9</th>\n",
       "      <th>dist</th>\n",
       "      <th>dem90_hf</th>\n",
       "      <th>lc_class</th>\n",
       "      <th>ndvi</th>\n",
       "    </tr>\n",
       "  </thead>\n",
       "  <tbody>\n",
       "    <tr>\n",
       "      <th>0</th>\n",
       "      <td>Insecta</td>\n",
       "      <td>Odonata</td>\n",
       "      <td>Libellulidae</td>\n",
       "      <td>Sympetrum</td>\n",
       "      <td>Sympetrum corruptum</td>\n",
       "      <td>37.173971</td>\n",
       "      <td>-121.856329</td>\n",
       "      <td>2020-09-29T08:24:00Z</td>\n",
       "      <td>29.0</td>\n",
       "      <td>9.0</td>\n",
       "      <td>...</td>\n",
       "      <td>4352.049805</td>\n",
       "      <td>289.341888</td>\n",
       "      <td>27.307756</td>\n",
       "      <td>262.034149</td>\n",
       "      <td>89.602631</td>\n",
       "      <td>196.067307</td>\n",
       "      <td>8.935099</td>\n",
       "      <td>352.799927</td>\n",
       "      <td>grassland</td>\n",
       "      <td>6343.969238</td>\n",
       "    </tr>\n",
       "    <tr>\n",
       "      <th>1</th>\n",
       "      <td>Malacostraca</td>\n",
       "      <td>Isopoda</td>\n",
       "      <td>Armadillidiidae</td>\n",
       "      <td>Armadillidium</td>\n",
       "      <td>Armadillidium vulgare</td>\n",
       "      <td>37.688580</td>\n",
       "      <td>-122.436608</td>\n",
       "      <td>2021-12-04T14:49:59Z</td>\n",
       "      <td>4.0</td>\n",
       "      <td>12.0</td>\n",
       "      <td>...</td>\n",
       "      <td>2455.836914</td>\n",
       "      <td>217.470047</td>\n",
       "      <td>61.847702</td>\n",
       "      <td>155.622360</td>\n",
       "      <td>107.227386</td>\n",
       "      <td>159.852875</td>\n",
       "      <td>2.005335</td>\n",
       "      <td>112.895271</td>\n",
       "      <td>grassland</td>\n",
       "      <td>4995.110352</td>\n",
       "    </tr>\n",
       "    <tr>\n",
       "      <th>2</th>\n",
       "      <td>Insecta</td>\n",
       "      <td>Hymenoptera</td>\n",
       "      <td>Apidae</td>\n",
       "      <td>Bombus</td>\n",
       "      <td>Bombus vosnesenskii</td>\n",
       "      <td>33.774911</td>\n",
       "      <td>-116.679713</td>\n",
       "      <td>2021-06-18T08:52:00Z</td>\n",
       "      <td>18.0</td>\n",
       "      <td>6.0</td>\n",
       "      <td>...</td>\n",
       "      <td>5776.527344</td>\n",
       "      <td>254.696030</td>\n",
       "      <td>-47.440784</td>\n",
       "      <td>302.136810</td>\n",
       "      <td>20.866125</td>\n",
       "      <td>134.750717</td>\n",
       "      <td>4.422367</td>\n",
       "      <td>2315.607666</td>\n",
       "      <td>grassland</td>\n",
       "      <td>5118.055664</td>\n",
       "    </tr>\n",
       "    <tr>\n",
       "      <th>3</th>\n",
       "      <td>Insecta</td>\n",
       "      <td>Hymenoptera</td>\n",
       "      <td>Apidae</td>\n",
       "      <td>Apis</td>\n",
       "      <td>Apis mellifera</td>\n",
       "      <td>32.848001</td>\n",
       "      <td>-117.050126</td>\n",
       "      <td>2016-04-17T09:28:00Z</td>\n",
       "      <td>17.0</td>\n",
       "      <td>4.0</td>\n",
       "      <td>...</td>\n",
       "      <td>3539.726807</td>\n",
       "      <td>286.711762</td>\n",
       "      <td>65.920944</td>\n",
       "      <td>220.790817</td>\n",
       "      <td>133.117722</td>\n",
       "      <td>213.238907</td>\n",
       "      <td>4.316342</td>\n",
       "      <td>199.882156</td>\n",
       "      <td>closed_shrubland</td>\n",
       "      <td>3649.374756</td>\n",
       "    </tr>\n",
       "    <tr>\n",
       "      <th>4</th>\n",
       "      <td>Insecta</td>\n",
       "      <td>Hemiptera</td>\n",
       "      <td>Lygaeidae</td>\n",
       "      <td>Oncopeltus</td>\n",
       "      <td>Oncopeltus fasciatus</td>\n",
       "      <td>32.739453</td>\n",
       "      <td>-117.133980</td>\n",
       "      <td>2019-04-06T18:44:31Z</td>\n",
       "      <td>6.0</td>\n",
       "      <td>4.0</td>\n",
       "      <td>...</td>\n",
       "      <td>3033.009521</td>\n",
       "      <td>259.712738</td>\n",
       "      <td>81.205818</td>\n",
       "      <td>178.506927</td>\n",
       "      <td>138.277557</td>\n",
       "      <td>205.749908</td>\n",
       "      <td>0.651661</td>\n",
       "      <td>72.789574</td>\n",
       "      <td>urban</td>\n",
       "      <td>3468.256104</td>\n",
       "    </tr>\n",
       "  </tbody>\n",
       "</table>\n",
       "<p>5 rows × 40 columns</p>\n",
       "</div>"
      ],
      "text/plain": [
       "          class        order           family          genus  \\\n",
       "0       Insecta      Odonata     Libellulidae      Sympetrum   \n",
       "1  Malacostraca      Isopoda  Armadillidiidae  Armadillidium   \n",
       "2       Insecta  Hymenoptera           Apidae         Bombus   \n",
       "3       Insecta  Hymenoptera           Apidae           Apis   \n",
       "4       Insecta    Hemiptera        Lygaeidae     Oncopeltus   \n",
       "\n",
       "                 species        lat        long             eventDate   day  \\\n",
       "0    Sympetrum corruptum  37.173971 -121.856329  2020-09-29T08:24:00Z  29.0   \n",
       "1  Armadillidium vulgare  37.688580 -122.436608  2021-12-04T14:49:59Z   4.0   \n",
       "2    Bombus vosnesenskii  33.774911 -116.679713  2021-06-18T08:52:00Z  18.0   \n",
       "3         Apis mellifera  32.848001 -117.050126  2016-04-17T09:28:00Z  17.0   \n",
       "4   Oncopeltus fasciatus  32.739453 -117.133980  2019-04-06T18:44:31Z   6.0   \n",
       "\n",
       "   month  ...         bio4        bio5       bio6        bio7        bio8  \\\n",
       "0    9.0  ...  4352.049805  289.341888  27.307756  262.034149   89.602631   \n",
       "1   12.0  ...  2455.836914  217.470047  61.847702  155.622360  107.227386   \n",
       "2    6.0  ...  5776.527344  254.696030 -47.440784  302.136810   20.866125   \n",
       "3    4.0  ...  3539.726807  286.711762  65.920944  220.790817  133.117722   \n",
       "4    4.0  ...  3033.009521  259.712738  81.205818  178.506927  138.277557   \n",
       "\n",
       "         bio9      dist     dem90_hf          lc_class         ndvi  \n",
       "0  196.067307  8.935099   352.799927         grassland  6343.969238  \n",
       "1  159.852875  2.005335   112.895271         grassland  4995.110352  \n",
       "2  134.750717  4.422367  2315.607666         grassland  5118.055664  \n",
       "3  213.238907  4.316342   199.882156  closed_shrubland  3649.374756  \n",
       "4  205.749908  0.651661    72.789574             urban  3468.256104  \n",
       "\n",
       "[5 rows x 40 columns]"
      ]
     },
     "execution_count": 7,
     "metadata": {},
     "output_type": "execute_result"
    }
   ],
   "source": [
    "prey_url = \"https://knb.ecoinformatics.org/knb/d1/mn/v2/object/urn%3Auuid%3A23d42528-1048-45d4-85d1-7e13b666e744\"\n",
    "prey = pd.read_csv(prey_url)\n",
    "prey.head()"
   ]
  },
  {
   "cell_type": "code",
   "execution_count": 8,
   "id": "7aeaf34f-2b19-4852-b66e-da07539e9cd2",
   "metadata": {
    "tags": []
   },
   "outputs": [
    {
     "data": {
      "text/plain": [
       "pandas.core.frame.DataFrame"
      ]
     },
     "execution_count": 8,
     "metadata": {},
     "output_type": "execute_result"
    }
   ],
   "source": [
    "type(prey)"
   ]
  },
  {
   "cell_type": "markdown",
   "id": "e2746fb8-e294-4535-ab7b-d90136aab624",
   "metadata": {},
   "source": []
  },
  {
   "cell_type": "markdown",
   "id": "f9076b21-0093-46ec-8400-ca7b5d1dc280",
   "metadata": {},
   "source": [
    "check git status -> stage changes -> check git status -> commit with message -> pull -> push changes\n",
    "\n",
    "CHECK IN WITH YOUR TEAM\n",
    "\n",
    "MAKE SURE YOU’VE ALL SUCCESSFULLY ACCESSED THE DATA BEFORE CONTINUING"
   ]
  }
 ],
 "metadata": {
  "kernelspec": {
   "display_name": "Anaconda 3 (Base)",
   "language": "python",
   "name": "base"
  },
  "language_info": {
   "codemirror_mode": {
    "name": "ipython",
    "version": 3
   },
   "file_extension": ".py",
   "mimetype": "text/x-python",
   "name": "python",
   "nbconvert_exporter": "python",
   "pygments_lexer": "ipython3",
   "version": "3.9.13"
  }
 },
 "nbformat": 4,
 "nbformat_minor": 5
}
