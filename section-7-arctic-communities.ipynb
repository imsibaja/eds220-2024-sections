{
 "cells": [
  {
   "cell_type": "code",
   "execution_count": 57,
   "id": "3223d9b5-c9bc-4ba1-8eca-1c660b48abf5",
   "metadata": {
    "tags": []
   },
   "outputs": [],
   "source": [
    "import geopandas as gpd\n",
    "from shapely import LineString, Point, Polygon"
   ]
  },
  {
   "cell_type": "code",
   "execution_count": 42,
   "id": "f8f6e160-590b-408a-a848-e06c8c8654c1",
   "metadata": {
    "tags": []
   },
   "outputs": [],
   "source": [
    "df = gpd.read_file(\"data/arctic_communities.geojson\")"
   ]
  },
  {
   "cell_type": "code",
   "execution_count": 6,
   "id": "b1b36922-9b6d-41c0-8e65-fbf8c08008ad",
   "metadata": {
    "tags": []
   },
   "outputs": [
    {
     "data": {
      "text/html": [
       "<div>\n",
       "<style scoped>\n",
       "    .dataframe tbody tr th:only-of-type {\n",
       "        vertical-align: middle;\n",
       "    }\n",
       "\n",
       "    .dataframe tbody tr th {\n",
       "        vertical-align: top;\n",
       "    }\n",
       "\n",
       "    .dataframe thead th {\n",
       "        text-align: right;\n",
       "    }\n",
       "</style>\n",
       "<table border=\"1\" class=\"dataframe\">\n",
       "  <thead>\n",
       "    <tr style=\"text-align: right;\">\n",
       "      <th></th>\n",
       "      <th>admin</th>\n",
       "      <th>country</th>\n",
       "      <th>n_communities</th>\n",
       "      <th>geometry</th>\n",
       "    </tr>\n",
       "  </thead>\n",
       "  <tbody>\n",
       "    <tr>\n",
       "      <th>0</th>\n",
       "      <td>United States of America</td>\n",
       "      <td>US</td>\n",
       "      <td>115</td>\n",
       "      <td>MULTIPOLYGON (((-132.74687 56.52568, -132.7576...</td>\n",
       "    </tr>\n",
       "    <tr>\n",
       "      <th>1</th>\n",
       "      <td>United Kingdom</td>\n",
       "      <td>GB</td>\n",
       "      <td>96</td>\n",
       "      <td>MULTIPOLYGON (((-2.66768 51.62300, -2.74214 51...</td>\n",
       "    </tr>\n",
       "    <tr>\n",
       "      <th>2</th>\n",
       "      <td>Sweden</td>\n",
       "      <td>SE</td>\n",
       "      <td>133</td>\n",
       "      <td>MULTIPOLYGON (((19.07646 57.83594, 18.99375 57...</td>\n",
       "    </tr>\n",
       "    <tr>\n",
       "      <th>3</th>\n",
       "      <td>Russia</td>\n",
       "      <td>RU</td>\n",
       "      <td>774</td>\n",
       "      <td>MULTIPOLYGON (((145.88154 43.45952, 145.89561 ...</td>\n",
       "    </tr>\n",
       "    <tr>\n",
       "      <th>4</th>\n",
       "      <td>Norway</td>\n",
       "      <td>NO</td>\n",
       "      <td>48</td>\n",
       "      <td>MULTIPOLYGON (((20.62217 69.03687, 20.49199 69...</td>\n",
       "    </tr>\n",
       "  </tbody>\n",
       "</table>\n",
       "</div>"
      ],
      "text/plain": [
       "                      admin country  n_communities  \\\n",
       "0  United States of America      US            115   \n",
       "1            United Kingdom      GB             96   \n",
       "2                    Sweden      SE            133   \n",
       "3                    Russia      RU            774   \n",
       "4                    Norway      NO             48   \n",
       "\n",
       "                                            geometry  \n",
       "0  MULTIPOLYGON (((-132.74687 56.52568, -132.7576...  \n",
       "1  MULTIPOLYGON (((-2.66768 51.62300, -2.74214 51...  \n",
       "2  MULTIPOLYGON (((19.07646 57.83594, 18.99375 57...  \n",
       "3  MULTIPOLYGON (((145.88154 43.45952, 145.89561 ...  \n",
       "4  MULTIPOLYGON (((20.62217 69.03687, 20.49199 69...  "
      ]
     },
     "execution_count": 6,
     "metadata": {},
     "output_type": "execute_result"
    }
   ],
   "source": [
    "df.head()"
   ]
  },
  {
   "cell_type": "markdown",
   "id": "96d50b4a-41a1-4d37-a653-8628a1b28c33",
   "metadata": {},
   "source": [
    "Individually, write down high-level steps on how you would explore and wrangle the data to produce the updated map. Do not code anything yet.\n",
    "\n",
    "I would first clean the data to make sure everything is easy to read. I would create the bounding box, then I would plot it nomally faceting it by n_communites. then I would change the CRS"
   ]
  },
  {
   "cell_type": "markdown",
   "id": "c58f21dd-d34b-4d84-9842-b13e28e41b83",
   "metadata": {},
   "source": [
    "Discuss your high-level steps with your team. What do you see as potential challenges to implementing your plan?"
   ]
  },
  {
   "cell_type": "code",
   "execution_count": null,
   "id": "e5965f47-4e02-4a0e-8b4f-4ca56c28e4a5",
   "metadata": {},
   "outputs": [],
   "source": [
    "Maybe the facet "
   ]
  },
  {
   "cell_type": "code",
   "execution_count": 7,
   "id": "28779ad2-45e8-4fd0-8459-bdbca075cad5",
   "metadata": {
    "tags": []
   },
   "outputs": [
    {
     "data": {
      "text/plain": [
       "0     MultiPolygon\n",
       "1     MultiPolygon\n",
       "2     MultiPolygon\n",
       "3     MultiPolygon\n",
       "4     MultiPolygon\n",
       "5     MultiPolygon\n",
       "6          Polygon\n",
       "7          Polygon\n",
       "8     MultiPolygon\n",
       "9     MultiPolygon\n",
       "10    MultiPolygon\n",
       "11    MultiPolygon\n",
       "12    MultiPolygon\n",
       "13    MultiPolygon\n",
       "14         Polygon\n",
       "dtype: object"
      ]
     },
     "execution_count": 7,
     "metadata": {},
     "output_type": "execute_result"
    }
   ],
   "source": [
    "df.geom_type"
   ]
  },
  {
   "cell_type": "markdown",
   "id": "e4606e59-2051-4ad7-a52a-cfbe8d04a0e9",
   "metadata": {},
   "source": [
    "Create an if-else statement that:\n",
    "\n",
    "prints “All features are polygons.” if all the features in the df are polygons and\n",
    "\n",
    "prints “Multiple feature types:” followed by the unique geometry types (no repetition) in the geodataframe if not all the features are polygons."
   ]
  },
  {
   "cell_type": "code",
   "execution_count": 73,
   "id": "e8e30c49-b7fb-45f8-bc4c-8f4e9a6c84fe",
   "metadata": {
    "tags": []
   },
   "outputs": [
    {
     "name": "stdout",
     "output_type": "stream",
     "text": [
      "All features are polygons.\n"
     ]
    }
   ],
   "source": [
    "if  df.geom_type.unique()[0] == 'Polygon' and len(df.geom_type.unique()) == 1:\n",
    "    print(\"All features are polygons.\")\n",
    "else:\n",
    "    print(\"Multiple feature types:\", df.geom_type.unique().tolist())\n"
   ]
  },
  {
   "cell_type": "markdown",
   "id": "d643a97e-3229-4660-91ab-ad5071ac4792",
   "metadata": {},
   "source": [
    "Wrap up your code into a function named check_polygons that receives a single geodataframe as its parameter and prints out a message stating whether all the geometry types are polygons or not."
   ]
  },
  {
   "cell_type": "code",
   "execution_count": 74,
   "id": "b8f9d1d8-08ae-47e1-93e7-a10bab7fb7df",
   "metadata": {
    "tags": []
   },
   "outputs": [],
   "source": [
    "def check_polygons(geo):\n",
    "    if  geo.geom_type.unique()[0] == 'Polygon' and len(geo.geom_type.unique()) == 1:\n",
    "        print(\"All features are polygons.\")\n",
    "    else:\n",
    "        print(\"Multiple feature types:\", geo.geom_type.unique().tolist())"
   ]
  },
  {
   "cell_type": "code",
   "execution_count": 75,
   "id": "c262942f-cb4a-4580-9ba8-d96205e8e0ea",
   "metadata": {
    "tags": []
   },
   "outputs": [
    {
     "name": "stdout",
     "output_type": "stream",
     "text": [
      "All features are polygons.\n"
     ]
    }
   ],
   "source": [
    "check_polygons(df)"
   ]
  },
  {
   "cell_type": "markdown",
   "id": "b0d82be8-8012-4f8f-8674-7cdf80b86e15",
   "metadata": {},
   "source": [
    "Explode polygons\n",
    "\n",
    "Overwrite the df geodataframe with the output from the explode method with the index_parts parameter set to False. Read the documentation for the method and use a markdown cell to write a brief explanation of what is being done.\n",
    "\n",
    "Reset the index of df.\n",
    "\n",
    "Use your check_polygons function to verify that df only has features of type polygon.\n",
    "\n"
   ]
  },
  {
   "cell_type": "code",
   "execution_count": 43,
   "id": "6a731dfd-49f4-4f4b-baa3-3d1943de55a5",
   "metadata": {
    "tags": []
   },
   "outputs": [],
   "source": [
    "df = df.explode(index_parts=False)\n",
    "df = df.reset_index(drop=True)"
   ]
  },
  {
   "cell_type": "markdown",
   "id": "28b797e5-4adc-4531-a7aa-cded0474b506",
   "metadata": {},
   "source": [
    "Sets all multipolygons to single polygons of their own entry"
   ]
  },
  {
   "cell_type": "code",
   "execution_count": 38,
   "id": "0976f307-63d6-4281-8e64-7503c47ec6b0",
   "metadata": {
    "tags": []
   },
   "outputs": [
    {
     "name": "stdout",
     "output_type": "stream",
     "text": [
      "All features are polygons.\n"
     ]
    }
   ],
   "source": [
    "check_polygons(df)"
   ]
  },
  {
   "cell_type": "markdown",
   "id": "9aed28e7-002f-49d1-868d-4b7759d59547",
   "metadata": {
    "tags": []
   },
   "source": [
    "Compute minimum y-coordinate for polygons\n",
    "\n",
    "At this point, every row in your df should be a single polygon.\n",
    "\n",
    "Select the first row of df using iloc. What kind of Python object is this?\n",
    "\n",
    "Select the geometry of the first row of df. What kind of Python object is this?\n",
    "\n",
    "Use the bounds attribute for shapely Polygons to select the southern-most bound of the first polygon in df.\n",
    "\n",
    "Create a function min_y that receives a single row of a geodataframe as its parameter and returns the minimum y-coordinate of its bounding box.\n",
    "\n",
    "Use the min_y function and the apply method for data frames to create a new column miny in df which has the minimum y coordinate."
   ]
  },
  {
   "cell_type": "code",
   "execution_count": 46,
   "id": "b198ccef-9d6a-4ce9-af9f-4a6d3104735a",
   "metadata": {
    "tags": []
   },
   "outputs": [
    {
     "data": {
      "text/html": [
       "<div>\n",
       "<style scoped>\n",
       "    .dataframe tbody tr th:only-of-type {\n",
       "        vertical-align: middle;\n",
       "    }\n",
       "\n",
       "    .dataframe tbody tr th {\n",
       "        vertical-align: top;\n",
       "    }\n",
       "\n",
       "    .dataframe thead th {\n",
       "        text-align: right;\n",
       "    }\n",
       "</style>\n",
       "<table border=\"1\" class=\"dataframe\">\n",
       "  <thead>\n",
       "    <tr style=\"text-align: right;\">\n",
       "      <th></th>\n",
       "      <th>admin</th>\n",
       "      <th>country</th>\n",
       "      <th>n_communities</th>\n",
       "      <th>geometry</th>\n",
       "    </tr>\n",
       "  </thead>\n",
       "  <tbody>\n",
       "    <tr>\n",
       "      <th>0</th>\n",
       "      <td>United States of America</td>\n",
       "      <td>US</td>\n",
       "      <td>115</td>\n",
       "      <td>POLYGON ((-132.74687 56.52568, -132.75762 56.5...</td>\n",
       "    </tr>\n",
       "  </tbody>\n",
       "</table>\n",
       "</div>"
      ],
      "text/plain": [
       "                      admin country  n_communities  \\\n",
       "0  United States of America      US            115   \n",
       "\n",
       "                                            geometry  \n",
       "0  POLYGON ((-132.74687 56.52568, -132.75762 56.5...  "
      ]
     },
     "execution_count": 46,
     "metadata": {},
     "output_type": "execute_result"
    }
   ],
   "source": [
    "# First row of df\n",
    "df.iloc[[0]]"
   ]
  },
  {
   "cell_type": "code",
   "execution_count": 47,
   "id": "3072ddab-74cc-4c11-ac01-5835557fff12",
   "metadata": {
    "tags": []
   },
   "outputs": [
    {
     "data": {
      "text/plain": [
       "geopandas.geodataframe.GeoDataFrame"
      ]
     },
     "execution_count": 47,
     "metadata": {},
     "output_type": "execute_result"
    }
   ],
   "source": [
    "# Type of first row\n",
    "type(df.iloc[[0]])"
   ]
  },
  {
   "cell_type": "code",
   "execution_count": 51,
   "id": "92e7b471-0cb8-422f-b0f9-fcb6a03c4be6",
   "metadata": {
    "tags": []
   },
   "outputs": [
    {
     "data": {
      "text/plain": [
       "0    POLYGON ((-132.74687 56.52568, -132.75762 56.5...\n",
       "Name: geometry, dtype: geometry"
      ]
     },
     "execution_count": 51,
     "metadata": {},
     "output_type": "execute_result"
    }
   ],
   "source": [
    "# Select geometry of first row\n",
    "df.iloc[[0]][\"geometry\"]"
   ]
  },
  {
   "cell_type": "code",
   "execution_count": 55,
   "id": "4cc415ec-48fb-4c1d-ae76-30c288d0bc0b",
   "metadata": {
    "tags": []
   },
   "outputs": [
    {
     "data": {
      "text/plain": [
       "geopandas.geoseries.GeoSeries"
      ]
     },
     "execution_count": 55,
     "metadata": {},
     "output_type": "execute_result"
    }
   ],
   "source": [
    "# Type of first row\n",
    "type(df.iloc[[0]][\"geometry\"])"
   ]
  },
  {
   "cell_type": "code",
   "execution_count": 65,
   "id": "fc02f63c-edc1-4299-a162-981f51559319",
   "metadata": {
    "tags": []
   },
   "outputs": [
    {
     "data": {
      "text/plain": [
       "0    56.511035\n",
       "Name: miny, dtype: float64"
      ]
     },
     "execution_count": 65,
     "metadata": {},
     "output_type": "execute_result"
    }
   ],
   "source": [
    "# Select the southern-most bound of the first polygon\n",
    "df.iloc[[0]][\"geometry\"].bounds[\"miny\"]"
   ]
  },
  {
   "cell_type": "code",
   "execution_count": null,
   "id": "e31c4ffe-e858-40be-8536-f0125f7887d7",
   "metadata": {},
   "outputs": [],
   "source": [
    "def min_y(geo_row):\n",
    "    return geo_row.bounds[\"miny\"]"
   ]
  }
 ],
 "metadata": {
  "kernelspec": {
   "display_name": "Anaconda 3 (EDS220)",
   "language": "python",
   "name": "eds220-env"
  },
  "language_info": {
   "codemirror_mode": {
    "name": "ipython",
    "version": 3
   },
   "file_extension": ".py",
   "mimetype": "text/x-python",
   "name": "python",
   "nbconvert_exporter": "python",
   "pygments_lexer": "ipython3",
   "version": "3.11.4"
  }
 },
 "nbformat": 4,
 "nbformat_minor": 5
}
