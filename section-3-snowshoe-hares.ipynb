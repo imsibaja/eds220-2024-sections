{
 "cells": [
  {
   "cell_type": "markdown",
   "id": "eeb8d307-2074-43be-bb1e-d012fc3a6ea9",
   "metadata": {},
   "source": [
    "![Snowshoe Hare](https://upload.wikimedia.org/wikipedia/commons/8/8a/SNOWSHOE_HARE_%28Lepus_americanus%29_%285-28-2015%29_quoddy_head%2C_washington_co%2C_maine_-01_%2818988734889%29.jpg)"
   ]
  },
  {
   "cell_type": "code",
   "execution_count": 25,
   "id": "65d2e0d1-3ae5-4098-9974-332de5df7e87",
   "metadata": {
    "tags": []
   },
   "outputs": [],
   "source": [
    "import pandas as pd\n",
    "import numpy as np"
   ]
  },
  {
   "cell_type": "code",
   "execution_count": 2,
   "id": "b72b09d0-e33e-4710-abbe-44c84e826ff3",
   "metadata": {
    "tags": []
   },
   "outputs": [],
   "source": [
    "URL = \"https://portal.edirepository.org/nis/dataviewer?packageid=knb-lter-bnz.55.22&entityid=f01f5d71be949b8c700b6ecd1c42c701\"\n",
    "hares = pd.read_csv(URL)"
   ]
  },
  {
   "cell_type": "markdown",
   "id": "84c47336-8463-4848-8292-ac1d3589b311",
   "metadata": {},
   "source": [
    "What are the dimensions of the dataframe and what are the data types of the columns? \n",
    "\n",
    "Do the data types match what you would expect from each column?\n",
    "\n",
    "Are there any columns that have a significant number of NA values?\n",
    "\n",
    "What are the minimum and maximum values for the weight and hind feet measurements?\n",
    "\n",
    "What are the unique values for some of the categorical columns?\n",
    "\n",
    "An explroatory question about the data frame you come up with!"
   ]
  },
  {
   "cell_type": "code",
   "execution_count": 8,
   "id": "7b710d96-8cf7-4aef-bfb7-347353e07aa0",
   "metadata": {
    "tags": []
   },
   "outputs": [
    {
     "name": "stdout",
     "output_type": "stream",
     "text": [
      "(3380, 14) \n",
      "\n",
      " date           object\n",
      "time           object\n",
      "grid           object\n",
      "trap           object\n",
      "l_ear          object\n",
      "r_ear          object\n",
      "sex            object\n",
      "age            object\n",
      "weight        float64\n",
      "hindft        float64\n",
      "notes          object\n",
      "b_key         float64\n",
      "session_id      int64\n",
      "study          object\n",
      "dtype: object\n"
     ]
    }
   ],
   "source": [
    "print(hares.shape, \"\\n\\n\", hares.dtypes)"
   ]
  },
  {
   "cell_type": "code",
   "execution_count": 15,
   "id": "aad53963-ed59-4dc7-823c-2be19f26c7ae",
   "metadata": {
    "tags": []
   },
   "outputs": [
    {
     "data": {
      "text/plain": [
       "date             0\n",
       "time          3116\n",
       "grid             0\n",
       "trap            12\n",
       "l_ear           48\n",
       "r_ear          169\n",
       "sex            352\n",
       "age           2111\n",
       "weight         535\n",
       "hindft        1747\n",
       "notes         3137\n",
       "b_key           47\n",
       "session_id       0\n",
       "study          163\n",
       "dtype: int64"
      ]
     },
     "execution_count": 15,
     "metadata": {},
     "output_type": "execute_result"
    }
   ],
   "source": [
    "hares.isna().sum()"
   ]
  },
  {
   "cell_type": "markdown",
   "id": "042ae6c2-654d-436b-b9ae-c3ce89d7c9d8",
   "metadata": {},
   "source": [
    "## Detecting messy values\n",
    "a. In the metadata section of the EDI repository, find which are the allowed values for the hares’ sex. Create a small table in a markdown cell showing the values and their definitions.\n",
    "\n",
    "b. Get the number of times each unique sex non-NA value appears.\n"
   ]
  },
  {
   "cell_type": "code",
   "execution_count": 21,
   "id": "b57ddac1-ca08-4c67-8d60-e9b5a793cf61",
   "metadata": {
    "tags": []
   },
   "outputs": [
    {
     "data": {
      "text/plain": [
       "array([nan, 'M', 'F', '?', 'F?', 'M?', 'pf', 'm', 'f', 'f?', 'm?', 'f ',\n",
       "       'm '], dtype=object)"
      ]
     },
     "execution_count": 21,
     "metadata": {},
     "output_type": "execute_result"
    }
   ],
   "source": [
    "hares[\"sex\"].unique()"
   ]
  },
  {
   "cell_type": "code",
   "execution_count": 22,
   "id": "b43b8f46-4acb-494b-b5ff-b7175065e493",
   "metadata": {
    "tags": []
   },
   "outputs": [
    {
     "data": {
      "text/plain": [
       "F     1161\n",
       "M      730\n",
       "f      556\n",
       "m      515\n",
       "?       40\n",
       "F?      10\n",
       "f        4\n",
       "m        4\n",
       "f?       3\n",
       "M?       2\n",
       "m?       2\n",
       "pf       1\n",
       "Name: sex, dtype: int64"
      ]
     },
     "execution_count": 22,
     "metadata": {},
     "output_type": "execute_result"
    }
   ],
   "source": [
    "hares[\"sex\"].value_counts()"
   ]
  },
  {
   "cell_type": "markdown",
   "id": "9dba6da3-fc28-418b-8ff5-7e9aefa3c732",
   "metadata": {},
   "source": [
    "c. Check the documentation of value_counts(). What is the purpose of the dropna parameter and what is its default value? Repeat step (a), this time adding the dropna=False parameter to value_counts()."
   ]
  },
  {
   "cell_type": "code",
   "execution_count": 23,
   "id": "6ae09eb7-18a8-47b8-935b-8a97a9fd7c0f",
   "metadata": {
    "tags": []
   },
   "outputs": [
    {
     "data": {
      "text/plain": [
       "F      1161\n",
       "M       730\n",
       "f       556\n",
       "m       515\n",
       "NaN     352\n",
       "?        40\n",
       "F?       10\n",
       "f         4\n",
       "m         4\n",
       "f?        3\n",
       "M?        2\n",
       "m?        2\n",
       "pf        1\n",
       "Name: sex, dtype: int64"
      ]
     },
     "execution_count": 23,
     "metadata": {},
     "output_type": "execute_result"
    }
   ],
   "source": [
    "hares[\"sex\"].value_counts(dropna=False)"
   ]
  },
  {
   "cell_type": "markdown",
   "id": "4eeb17f3-f137-424c-9fe2-0c622346d69c",
   "metadata": {},
   "source": [
    "d. Discuss with your team the output of the unique value counts. In particular:\n",
    "\n",
    "    i. Do the values in the sex column correspond to the values declared in the metadata?\n",
    "    ii. What could have been potential causes for multiple codes?\n",
    "    iii. Are there seemingly repated values? If so, what could be the cause?"
   ]
  },
  {
   "cell_type": "markdown",
   "id": "1c5cc825-26f7-40f4-8908-cca1647f29fb",
   "metadata": {},
   "source": [
    "6. Clean values\n",
    "\n",
    "Create a new column called sex_simple using the numpy.select() function so that\n",
    "\n",
    "‘F’, ‘f’, and ‘f_’ in the sex column get assigned to ‘female’,\n",
    "\n",
    "‘M’, ‘m’, and ‘m_’ get assigned to ‘male’, and\n",
    "\n",
    "anything else gets assigned np.nan\n",
    "\n",
    "Check the counts of unique values (including NAs) in the new sex_simple column"
   ]
  },
  {
   "cell_type": "code",
   "execution_count": 27,
   "id": "f102a10a-667b-4020-a926-974d8ff9af10",
   "metadata": {
    "tags": []
   },
   "outputs": [
    {
     "data": {
      "text/plain": [
       "0        nan\n",
       "1       male\n",
       "2       male\n",
       "3        nan\n",
       "4        nan\n",
       "        ... \n",
       "3375     nan\n",
       "3376     nan\n",
       "3377     nan\n",
       "3378     nan\n",
       "3379    male\n",
       "Name: sex_simple, Length: 3380, dtype: object"
      ]
     },
     "execution_count": 27,
     "metadata": {},
     "output_type": "execute_result"
    }
   ],
   "source": [
    "condition=[hares[\"sex\"].isin(('F', 'f', \"F \", \"f \")),\n",
    "           hares[\"sex\"].isin(('M', 'm', \"M \", \"m \"))]\n",
    "\n",
    "gender=[\"female\", \"male\"]\n",
    "\n",
    "hares[\"sex_simple\"]=np.select(condition, gender, default=np.nan)\n",
    "\n",
    "hares[\"sex_simple\"]"
   ]
  },
  {
   "cell_type": "markdown",
   "id": "3d9ba478-957d-45fa-a891-53199725c426",
   "metadata": {},
   "source": [
    "e. Write code to confirm your suspicions about c-iii."
   ]
  },
  {
   "cell_type": "code",
   "execution_count": null,
   "id": "8c8fd71a-d591-43da-819f-cf4eaa8911b2",
   "metadata": {},
   "outputs": [],
   "source": []
  }
 ],
 "metadata": {
  "kernelspec": {
   "display_name": "Anaconda 3 (Base)",
   "language": "python",
   "name": "base"
  },
  "language_info": {
   "codemirror_mode": {
    "name": "ipython",
    "version": 3
   },
   "file_extension": ".py",
   "mimetype": "text/x-python",
   "name": "python",
   "nbconvert_exporter": "python",
   "pygments_lexer": "ipython3",
   "version": "3.9.13"
  }
 },
 "nbformat": 4,
 "nbformat_minor": 5
}
